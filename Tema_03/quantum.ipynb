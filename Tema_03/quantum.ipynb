{
 "cells": [
  {
   "cell_type": "markdown",
   "metadata": {},
   "source": [
    "# Dinámica de sistemas cuánticos"
   ]
  },
  {
   "cell_type": "markdown",
   "metadata": {},
   "source": [
    "Consideremos un sistema compuesto de $N$ espines 1/2, descrito por el `Hamiltonian` ($\\hbar = 1$):"
   ]
  },
  {
   "cell_type": "markdown",
   "metadata": {},
   "source": [
    "\\begin{equation}\n",
    "\\hat{H} = \\sum_{i=1}^{N-1} J\\hat{\\sigma}^z_i \\hat{\\sigma}^z_{i+1} + \\sum_{i=1}^N g\\hat{\\sigma}^x_i,\n",
    "\\end{equation}"
   ]
  },
  {
   "cell_type": "markdown",
   "metadata": {},
   "source": [
    "donde el primer término corresponde a una interacción de vecinos cercanos en la dirección $z$, mientras que el segundo término genera dinámica coherente entre los espines que componen el sistema. El `Hamiltonian` anterior es el Hamiltoniano del modelo de Ising cuántico de ferromagnetismo en una dimensión."
   ]
  },
  {
   "cell_type": "markdown",
   "metadata": {},
   "source": [
    "El estado de un objeto cuántico, usualmente se denota por el símbolo $| \\psi \\rangle$ en el marco de la segunda cuantización y esto es conocido como un `estado puro`. Sin embargo, los sistemas cuánticos no necesarimente se encuentran en estados puros, si no que puede estar en un `estado mixto`. Un `estado mixto` es una colección clásica de estados cuánticos y se representan por medio del `operador de la matrix de densidad`:\n",
    "\\begin{equation}\n",
    "\\hat{\\rho} = \\sum_i p_i |\\psi_i \\rangle \\langle \\psi_i |,\n",
    "\\end{equation}\n",
    "donde $p_i$ son valores de una distribución de probabilidad clásica, de manera tal que $\\sum_i p_i = 1$ para asegurar normalización. Al contrario de un `estado puro`, un `estado mixto` es un operador que se representa mediante una matriz en el espacio de Hilbert."
   ]
  },
  {
   "cell_type": "markdown",
   "metadata": {},
   "source": [
    "Lo más importante, es que la dinámica de un `estado mixto` se describe mediante la `ecuación de von Neumann`, al contrario de la dinámica de un `estado puro` que se describe mediante la `ecuación de Schrödinger`. La `ecuación de von Neumann` está dada por\n",
    "\\begin{equation}\n",
    "\\frac{d\\hat{\\rho}(t)}{dt} = -{\\rm{i}} [\\hat{H}, \\hat{\\rho}(t)],\n",
    "\\end{equation}\n",
    "para el caso especial de un Hamiltoniano que no depende del tiempo. [A, B] = AB - BA es el conmutador cuántico."
   ]
  },
  {
   "cell_type": "markdown",
   "metadata": {},
   "source": [
    "Vamos a resolver la `ecuación de Von Neumann` para el sistema de espines que describen el modelo de Ising cuántico."
   ]
  },
  {
   "cell_type": "markdown",
   "metadata": {},
   "source": [
    "Es mecánica cuántica, usualmente nos interesan los `valores de expectación`, que corresponden a los valores que podemos medir experimentalmente. Utilizando `estados mixtos`, los valores de expectación se calculan con la traza:\n",
    "\\begin{equation}\n",
    "\\langle \\hat{O} \\rangle (t) = {\\rm{Tr}}[\\hat{O}\\hat{\\rho}(t)].\n",
    "\\end{equation}"
   ]
  },
  {
   "cell_type": "markdown",
   "metadata": {},
   "source": [
    "### Caso $N=2$"
   ]
  },
  {
   "cell_type": "markdown",
   "metadata": {},
   "source": [
    "Para $N=2$, podemos construir el `Hamiltonian` denotado al inicio utilizando productos tensoriales de cada uno de los espacios de Hilbert que componen el sistema. Por ejemplo:\n",
    "\\begin{equation}\n",
    "\\hat{\\sigma}^z_1 = \\hat{\\sigma}^z \\otimes \\mathbb{1}, \\\\\n",
    "\\hat{\\sigma}^z_2 = \\mathbb{1} \\otimes \\hat{\\sigma}^z, \\\\\n",
    "\\hat{\\sigma}^x_1 = \\hat{\\sigma}^x \\otimes \\mathbb{1}, \\\\\n",
    "\\hat{\\sigma}^x_2 = \\mathbb{1} \\otimes \\hat{\\sigma}^x, \\\\\n",
    "\\end{equation}\n",
    "donde $\\otimes$ corresponde al producto tensorial y $\\mathbb{1}$ a la matrix identidad $2x2$.\n",
    "\n",
    "`NumPy` nos permite representar dichos operadores como una matrices en el espacio de Hilbert."
   ]
  },
  {
   "cell_type": "markdown",
   "metadata": {},
   "source": [
    "Primero definimos las matrices de Pauli para un espín 1/2:"
   ]
  },
  {
   "cell_type": "code",
   "execution_count": 4,
   "metadata": {},
   "outputs": [],
   "source": [
    "import numpy as np\n",
    "\n",
    "sx = np.array([[0, 1], [1, 0]]) # Pauli X\n",
    "sy = np.array([[0,-1j], [1j, 0]]) # Pauli Y\n",
    "sz = np.array([[1, 0], [0, -1]]) # Pauli Z\n",
    "iden = np.array([[1, 0], [0, 1]]) # Identidad"
   ]
  },
  {
   "cell_type": "markdown",
   "metadata": {},
   "source": [
    "Y con éstas podemos representar el `Hamiltonian` utilizando el producto tensorial (`np.kron`):"
   ]
  },
  {
   "cell_type": "code",
   "execution_count": 5,
   "metadata": {},
   "outputs": [],
   "source": [
    "# Calcule el Hamiltoniano del model de Ising usando productos tensoriales de las matrices de Pauli\n",
    "# Busque la documentación de np.kron()\n",
    "# Esta rutina debe devolver una matrix 4x4 que corresponde al modelo de Ising para N=2\n",
    "def hamiltonian(J, g):\n",
    "    pass"
   ]
  },
  {
   "cell_type": "markdown",
   "metadata": {},
   "source": [
    "La matriz es una $4x4$ que describe la dinámica interna del sistema:"
   ]
  },
  {
   "cell_type": "code",
   "execution_count": 6,
   "metadata": {},
   "outputs": [
    {
     "name": "stdout",
     "output_type": "stream",
     "text": [
      "None\n"
     ]
    }
   ],
   "source": [
    "print(hamiltonian(2.0, 1.0))"
   ]
  },
  {
   "cell_type": "markdown",
   "metadata": {},
   "source": [
    "Ahora necesitamos un `estado mixto` inicial. Podemos escoger el estado en cual el primer espín apunta hacia arriba y el segundo hacia abajo en la dirección $z$, i.e.,\n",
    "\\begin{equation}\n",
    "\\hat{\\rho}(t = 0) = | \\uparrow \\downarrow \\rangle \\langle \\uparrow \\downarrow |,\n",
    "\\end{equation}\n",
    "el cual podemos representar de la siguiente forma:"
   ]
  },
  {
   "cell_type": "code",
   "execution_count": 7,
   "metadata": {},
   "outputs": [
    {
     "name": "stdout",
     "output_type": "stream",
     "text": [
      "[[0. 0. 0. 0.]\n",
      " [0. 1. 0. 0.]\n",
      " [0. 0. 0. 0.]\n",
      " [0. 0. 0. 0.]]\n"
     ]
    }
   ],
   "source": [
    "rho_init = np.zeros((4, 4))\n",
    "rho_init[1, 1] = 1.0\n",
    "\n",
    "print(rho_init)"
   ]
  },
  {
   "cell_type": "markdown",
   "metadata": {},
   "source": [
    "Ahora necesitamos resolver la ecuación dinámica dadas las condiciones que describimos anteriormente."
   ]
  },
  {
   "cell_type": "markdown",
   "metadata": {},
   "source": [
    "### Integración Runge Kutta orden 4"
   ]
  },
  {
   "cell_type": "markdown",
   "metadata": {},
   "source": [
    "Un método para resolver la `ecuación de von Neumann` corresponde al método RK4, que provee una solución númerica al problema\n",
    "\\begin{equation}\n",
    "\\frac{dy}{dt} = f(t, y),\n",
    "\\end{equation}\n",
    "sujeta a la condición inicial\n",
    "\\begin{equation}\n",
    "y(t_0) = y_0.\n",
    "\\end{equation}\n",
    "El método consiste en escoger un `timestep` $h > 0$, tal que\n",
    "\\begin{equation}\n",
    "y_{n+1} = y_n + \\frac{h}{6}(k_1 + 2k_2 + 2k_3 + k_4),\n",
    "\\end{equation}\n",
    "donde\n",
    "\\begin{equation}\n",
    "k_1 = f(t_n, y_n) \\\\\n",
    "k_2 = f(t_n + \\frac{h}{2}, y_n + \\frac{h}{2}k_1) \\\\\n",
    "k_3 = f(t_n + \\frac{h}{2}, y_n + \\frac{h}{2}k_2) \\\\\n",
    "k_4 = f(t_n + h, y_n + hk_3)\n",
    "\\end{equation}"
   ]
  },
  {
   "cell_type": "markdown",
   "metadata": {},
   "source": [
    "Vamos a implementar esta rutina.\n",
    "\n",
    "Implemente el algoritmo RK4 en Python.\n",
    "\n",
    "Lo primero es establecer la función f(t, y). En este caso, el lado derecho de la equación es la `ecuación de von Neumann`. "
   ]
  },
  {
   "cell_type": "code",
   "execution_count": 8,
   "metadata": {},
   "outputs": [],
   "source": [
    "def von_neumann(ham, rho):\n",
    "    pass # Esta función debe devolver -i[H, rho]"
   ]
  },
  {
   "cell_type": "markdown",
   "metadata": {},
   "source": [
    "Ahora escribimos la rutina RK4 para nuestro caso especial, en el cual el lado derecho de la ecuación no depende del tiempo. Note que uno de los argumentos de esta función es otra función, `la cual espera dos argumentos`:"
   ]
  },
  {
   "cell_type": "code",
   "execution_count": 9,
   "metadata": {},
   "outputs": [],
   "source": [
    "def rk4(func, ham, y_n, h):\n",
    "    pass # Esta función debe devolver y_{n+1}"
   ]
  },
  {
   "cell_type": "markdown",
   "metadata": {},
   "source": [
    "Ahora podemos usar el método RK4 para resolver la `ecuación de von Neumann` para el caso $N=2$. Lo primero es definir los parámetros del `Hamiltonian`:"
   ]
  },
  {
   "cell_type": "code",
   "execution_count": 10,
   "metadata": {},
   "outputs": [],
   "source": [
    "Jt = 1.0\n",
    "gt = 1.0\n",
    "\n",
    "Hamiltonian = hamiltonian(Jt, gt)"
   ]
  },
  {
   "cell_type": "markdown",
   "metadata": {},
   "source": [
    "Ahora subdividimos la grilla temporal en segmentos pequeños, con el valor de $h$ siendo establecido como la diferencia granular de cada segmento:"
   ]
  },
  {
   "cell_type": "code",
   "execution_count": 11,
   "metadata": {},
   "outputs": [],
   "source": [
    "times = np.linspace(0.0, 10.0, 2001)\n",
    "h = times[1] - times[0]"
   ]
  },
  {
   "cell_type": "markdown",
   "metadata": {},
   "source": [
    "Ahora debemos establecer los valores de expectación que deseamos calcular. Calculemos el valor de expectación de la polarización en la dirección $z$ de cada espín. Es decir, calculemos dos valores de expectación de obervables dados por:"
   ]
  },
  {
   "cell_type": "code",
   "execution_count": 12,
   "metadata": {},
   "outputs": [],
   "source": [
    "Sz1 = np.kron(sz, iden)\n",
    "Sz2 = np.kron(iden, sz)"
   ]
  },
  {
   "cell_type": "markdown",
   "metadata": {},
   "source": [
    "Para contener los valores de expectación vamos a inicializar un arreglo del mismo tamaño que `times`. De esta manera podemos utilizar ambos arreglos para obtener un gráfico más adelante."
   ]
  },
  {
   "cell_type": "code",
   "execution_count": 13,
   "metadata": {},
   "outputs": [],
   "source": [
    "obs1 = np.zeros(times.size, dtype=complex)\n",
    "obs2 = np.zeros(times.size, dtype=complex)"
   ]
  },
  {
   "cell_type": "markdown",
   "metadata": {},
   "source": [
    "Ahora creamos una rutina para realizar la evolución temporal. Primero, necesitamos una copia del operador de la matrix de densidad inicial:"
   ]
  },
  {
   "cell_type": "code",
   "execution_count": 14,
   "metadata": {},
   "outputs": [],
   "source": [
    "# Haga un deep copy de rho_init y llamele rho_0\n"
   ]
  },
  {
   "cell_type": "markdown",
   "metadata": {},
   "source": [
    "Y, finalmente, llamamos de manera iterativa la rutina `rk4()`, calculando el operador de la matrix de densidad $\\hat{\\rho}(t)$ a través del tiempo:"
   ]
  },
  {
   "cell_type": "code",
   "execution_count": 19,
   "metadata": {},
   "outputs": [],
   "source": [
    "for tt in range(times.size):\n",
    "    # Calcule el valor de expectación de Sz1 y de Sz2\n",
    "    # utilizando rho_0\n",
    "    # Asigne dichos valores al índice correspondiente de obs1 y obs2\n",
    "    # Código aquí ->\n",
    "    \n",
    "    # Invoque rk4 operando sobre rho_0\n",
    "    # y devuelva el resultado a un nuevo rho_n\n",
    "    # Código aquí ->\n",
    "    \n",
    "    # Ahora cree un view de rho_n y asígnelo a rho_0, es decir, haga un shallow copy de rho_n en rho_0\n",
    "    # De esta manera, en la siguiente iteración, el operador de esta iteración se convierte en el inicial\n",
    "    # de la siguiente iteración\n",
    "    # Código aquí ->"
   ]
  },
  {
   "cell_type": "markdown",
   "metadata": {},
   "source": [
    "Hagamos un gráfico de los resultados usando `matplotlib`:"
   ]
  },
  {
   "cell_type": "code",
   "execution_count": 1,
   "metadata": {},
   "outputs": [],
   "source": [
    "import matplotlib.pyplot as plt\n",
    "\n",
    "# Código aquí ->\n",
    "# Juegue con los valores de Jt y gt para obtener diferentes dinámicas! :o"
   ]
  }
 ],
 "metadata": {
  "anaconda-cloud": {},
  "kernelspec": {
   "display_name": "Python 3 (ipykernel)",
   "language": "python",
   "name": "python3"
  },
  "language_info": {
   "codemirror_mode": {
    "name": "ipython",
    "version": 3
   },
   "file_extension": ".py",
   "mimetype": "text/x-python",
   "name": "python",
   "nbconvert_exporter": "python",
   "pygments_lexer": "ipython3",
   "version": "3.9.10"
  }
 },
 "nbformat": 4,
 "nbformat_minor": 1
}
