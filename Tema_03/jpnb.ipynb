{
 "cells": [
  {
   "cell_type": "markdown",
   "metadata": {},
   "source": [
    "# Celdas Markdown"
   ]
  },
  {
   "cell_type": "markdown",
   "metadata": {},
   "source": [
    "Texto puede ser añadido en los Jupyter Notebooks usandos celdas de markdown. El tipo de celda se puede cambiar usando el menú `Cell` en la barra de herramientas o con el shortcut `m`. \n",
    "Markdown es un lenguaje popular relacionado con HTML. "
   ]
  },
  {
   "cell_type": "markdown",
   "metadata": {},
   "source": [
    "## Conceptos básicos de markdown"
   ]
  },
  {
   "cell_type": "markdown",
   "metadata": {},
   "source": [
    "El texto se puede hacer en *cursiva* o **negrita** encapsulando el texto con uno o dos asteriscos, respectivamente."
   ]
  },
  {
   "cell_type": "markdown",
   "metadata": {},
   "source": [
    "Se pueden construir listas con puntos o enumeradas:\n",
    "\n",
    "* Uno\n",
    "    - Sub-lista\n",
    "        - Esto\n",
    "  - Sub-lista\n",
    "        - Lo otro\n",
    "        - La otra cosa\n",
    "* Dos\n",
    "  - Sub-lista\n",
    "* Tres\n",
    "  - Sub-lista\n",
    "\n",
    "Ahora otra lista\n",
    "\n",
    "1. Punto inicial\n",
    "    1. Sub-lista\n",
    "    2. Sub-lista\n",
    "2. Segundo punto\n",
    "3. Otro punto"
   ]
  },
  {
   "cell_type": "markdown",
   "metadata": {},
   "source": [
    "Se pueden agregar líneas horizontales:\n",
    "\n",
    "---"
   ]
  },
  {
   "cell_type": "markdown",
   "metadata": {},
   "source": [
    "De esta forma se puede encapsular texto:\n",
    "\n",
    "> Beautiful is better than ugly.\n",
    "> Explicit is better than implicit.\n",
    "> Simple is better than complex.\n",
    "> Complex is better than complicated.\n",
    "> Flat is better than nested.\n",
    "> Sparse is better than dense.\n",
    "> Readability counts.\n",
    "> Special cases aren't special enough to break the rules.\n",
    "> Although practicality beats purity.\n",
    "> Errors should never pass silently.\n",
    "> Unless explicitly silenced.\n",
    "> In the face of ambiguity, refuse the temptation to guess.\n",
    "> There should be one-- and preferably only one --obvious way to do it.\n",
    "> Although that way may not be obvious at first unless you're Dutch.\n",
    "> Now is better than never.\n",
    "> Although never is often better than *right* now.\n",
    "> If the implementation is hard to explain, it's a bad idea.\n",
    "> If the implementation is easy to explain, it may be a good idea.\n",
    "> Namespaces are one honking great idea -- let's do more of those!"
   ]
  },
  {
   "cell_type": "markdown",
   "metadata": {},
   "source": [
    "De la siguiente forma se pueden añadir links\n",
    "\n",
    "[Jupyter's website](https://jupyter.org)"
   ]
  },
  {
   "cell_type": "markdown",
   "metadata": {},
   "source": [
    "Con backslash \\ se pueden generar caracteres literales que tendrían significado especial en la sintaxis de markdown.\n",
    "\n",
    "```\n",
    "\\*literal asterisks\\*\n",
    " *literal asterisks*\n",
    "```\n",
    "\n",
    "Se puede usar doble backslash \\ \\ para generar el símbolo literal $. "
   ]
  },
  {
   "cell_type": "markdown",
   "metadata": {},
   "source": [
    "## Encabezados"
   ]
  },
  {
   "cell_type": "markdown",
   "metadata": {},
   "source": [
    "Los encabezados se pueden añador usando uno o más símbolos `#` seguido de un espacio, de la siguiente forma:\n",
    "\n",
    "```\n",
    "# Heading 1\n",
    "# Heading 2\n",
    "## Heading 2.1\n",
    "## Heading 2.2\n",
    "```"
   ]
  },
  {
   "cell_type": "markdown",
   "metadata": {},
   "source": [
    "## Código incorporado"
   ]
  },
  {
   "cell_type": "markdown",
   "metadata": {},
   "source": [
    "El código se puede incorporar para ser ilustrado en lugar de ejecutado:\n",
    "\n",
    "    def f(x):\n",
    "        \"\"\"a docstring\"\"\"\n",
    "        return x**2\n",
    "\n",
    "o inclusive otros lenguajes como C++\n",
    "\n",
    "    for (int i = 0; i < n; i++){\n",
    "      std::cout << \"Hello \" << i << std::endl;\n",
    "      int x += 4;\n",
    "    }"
   ]
  },
  {
   "cell_type": "markdown",
   "metadata": {},
   "source": [
    "## Ecuaciones y LaTeX "
   ]
  },
  {
   "cell_type": "markdown",
   "metadata": {},
   "source": [
    "La sintaxis de LaTeX puede ser utilizada en los Jupyter Notebooks para escribir ecuaciones y expresiones matemáticas. \n",
    "\n",
    "Esto se puede hacer en línea:\n",
    "$e^{i\\pi} + 1 = 0$, o en ambientes de ecuaciones:\n",
    "\n",
    "\\begin{equation}\n",
    "e^x=\\sum_{i=0}^\\infty \\frac{1}{i!}x^i\n",
    "\\end{equation}\n",
    "\n",
    "En línea, las expresiones se escriben envolviendo el código con `$`:\n",
    "\n",
    "```\n",
    "$e^{i\\pi} + 1 = 0$\n",
    "```\n",
    "\n",
    "Los ambientes de ecuaciones se envuelven en el ambiente `\\begin{equation}` y `\\end{equation}`:\n",
    "\n",
    "```latex\n",
    "\\begin{equation}\n",
    "e^x=\\sum_{i=0}^\\infty \\frac{1}{i!}x^i\n",
    "\\end{equation}\n",
    "```"
   ]
  },
  {
   "cell_type": "markdown",
   "metadata": {},
   "source": [
    "# Código en Python"
   ]
  },
  {
   "cell_type": "markdown",
   "metadata": {},
   "source": [
    "Los Jupyter Notebooks son particularmente útiles para exponer código científico y su respectivo análisis matemático en un *ambiente en común*.\n",
    "Los notebooks nos permiten escribir código, ecuaciones matemáticas y sus descripciones de manera muy intuitiva.\n",
    "\n",
    "Por ejemplo, las celdas pueden contener código de Python:"
   ]
  },
  {
   "cell_type": "code",
   "execution_count": null,
   "metadata": {},
   "outputs": [],
   "source": [
    "def hello(name):\n",
    "    return \"Hello, {}!\".format(name)"
   ]
  },
  {
   "cell_type": "markdown",
   "metadata": {},
   "source": [
    "Dicho código puede ser ejecutado por el interpretador línea por línea:"
   ]
  },
  {
   "cell_type": "code",
   "execution_count": null,
   "metadata": {},
   "outputs": [],
   "source": [
    "print(hello('Marlon'))"
   ]
  },
  {
   "cell_type": "markdown",
   "metadata": {},
   "source": [
    "De hecho, se puede utilizar Python de la misma forma en que lo haríamos con el interpredor de la línea de comandos o mediante scripts. Los notebooks nos dan la facilidad de utilizar toda esta funcionalidad junto con Markdown y LaTeX. Es el ambiente perfecto para desarollar proyectos científicos."
   ]
  },
  {
   "cell_type": "code",
   "execution_count": null,
   "metadata": {},
   "outputs": [],
   "source": [
    "import math\n",
    "\n",
    "class Point:\n",
    "    def __init__(self, x = 0, y = 0):\n",
    "        self.x = x\n",
    "        self.y = y\n",
    "        \n",
    "    @property\n",
    "    def r(self):\n",
    "        return math.sqrt(self.x**2 + self.y**2)\n",
    "    \n",
    "    @r.setter\n",
    "    def r(self, r_new):\n",
    "        r_old = self.r\n",
    "        scale = r_new / r_old\n",
    "        self.x *= scale\n",
    "        self.y *= scale\n",
    "        \n",
    "    @property\n",
    "    def phi(self):\n",
    "        return math.atan2(self.y, self.x)"
   ]
  },
  {
   "cell_type": "code",
   "execution_count": null,
   "metadata": {},
   "outputs": [],
   "source": [
    "p = Point(3, 4)\n",
    "print(p.x, p.y)"
   ]
  },
  {
   "cell_type": "code",
   "execution_count": null,
   "metadata": {},
   "outputs": [],
   "source": [
    "print(p.r, p.phi)"
   ]
  },
  {
   "cell_type": "code",
   "execution_count": null,
   "metadata": {},
   "outputs": [],
   "source": [
    "p.r = 10\n",
    "print(p.r, p.phi)"
   ]
  },
  {
   "cell_type": "code",
   "execution_count": null,
   "metadata": {},
   "outputs": [],
   "source": [
    "print(p.x, p.y)"
   ]
  },
  {
   "cell_type": "markdown",
   "metadata": {},
   "source": [
    "También podemos usar funcionalidad de Matplotlib!"
   ]
  },
  {
   "cell_type": "code",
   "execution_count": null,
   "metadata": {},
   "outputs": [],
   "source": [
    "import numpy as np\n",
    "import matplotlib.pyplot as plt\n",
    "\n",
    "x = np.linspace(0, 1, 500)\n",
    "y = np.sin(4 * np.pi * x) * np.exp(-5 * x)\n",
    "\n",
    "fig, ax = plt.subplots()\n",
    "\n",
    "ax.fill(x, y, zorder=10)\n",
    "ax.grid(True, zorder=5)\n",
    "plt.show()"
   ]
  },
  {
   "cell_type": "markdown",
   "metadata": {},
   "source": [
    "Para efectos prácticos; para la mayoría de nuestras aplicaciones, proyectos y tareas usaremos Jupyter Notebooks! "
   ]
  }
 ],
 "metadata": {
  "anaconda-cloud": {},
  "kernelspec": {
   "display_name": "Python 3 (ipykernel)",
   "language": "python",
   "name": "python3"
  },
  "language_info": {
   "codemirror_mode": {
    "name": "ipython",
    "version": 3
   },
   "file_extension": ".py",
   "mimetype": "text/x-python",
   "name": "python",
   "nbconvert_exporter": "python",
   "pygments_lexer": "ipython3",
   "version": "3.9.19"
  }
 },
 "nbformat": 4,
 "nbformat_minor": 1
}
