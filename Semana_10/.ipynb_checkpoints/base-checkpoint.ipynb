{
 "cells": [
  {
   "cell_type": "markdown",
   "metadata": {
    "slideshow": {
     "slide_type": "slide"
    }
   },
   "source": [
    "# Simple Numerical Integration Techniques"
   ]
  },
  {
   "cell_type": "markdown",
   "metadata": {
    "tags": []
   },
   "source": [
    "## Basic Idea of Numerical integration"
   ]
  },
  {
   "cell_type": "markdown",
   "metadata": {
    "jp-MarkdownHeadingCollapsed": true,
    "slideshow": {
     "slide_type": "slide"
    },
    "tags": []
   },
   "source": [
    "* Think of integrals as areas under curves.\n",
    "* Approximate these areas in terms of simple shapes (rectangles, trapezoids, rectangles with parabolic tops)\n",
    "* Simplest case: Riemann sum, $I \\approx \\sum_{k} f(x_k) h$, with $h=$ slice width (bottom-left panel below)\n",
    "\n",
    "![](Fig1.png)"
   ]
  },
  {
   "cell_type": "markdown",
   "metadata": {
    "tags": []
   },
   "source": [
    "## Trapezoidal rule"
   ]
  },
  {
   "cell_type": "markdown",
   "metadata": {
    "cell_style": "split",
    "jp-MarkdownHeadingCollapsed": true,
    "slideshow": {
     "slide_type": "subslide"
    },
    "tags": []
   },
   "source": [
    "* Break up interval into $N$ slices,\n",
    "* Approximate function as segments on each slice.\n",
    "\n",
    "\n",
    "![From Newman: fig. 5.1b](Fig2.png)"
   ]
  },
  {
   "cell_type": "markdown",
   "metadata": {
    "cell_style": "split",
    "slideshow": {
     "slide_type": "fragment"
    }
   },
   "source": [
    "* N slices from $a$ to $b$ means that slice width: $$h = (b - a )/N$$\n",
    "* area of $k^\\text{th}$ slice’s trapezoid: (Rectangle + Triangle)\n",
    "$$A_k = f(x_k)h + \\frac{h[f(x_k+h)-f(x_k)]}2 \\\\ = \\frac{h[f(x_k) + f(x_k +h)]}2.$$\n",
    "* Total area (our approximation for the integral) (and using $x_k=a+kh$):\n",
    "$$ \\boxed{I(a, b) \\approx h\\left[\\frac12 f(a) + \\frac12f(b) + \\sum_{k=1}^{N-1} f(a+kh)\\right]}. $$\n",
    "* Note how it is almost a Riemann sum, except for beginning and end points.\n",
    "    Yet, the differences will be significant!"
   ]
  },
  {
   "cell_type": "markdown",
   "metadata": {
    "cell_style": "split",
    "slideshow": {
     "slide_type": "subslide"
    }
   },
   "source": [
    "$$\\text{Recall } I(a, b) \\approx h\\left[\\frac12 f(a) + \\frac12f(b) + \\sum_{k=1}^{N-1} f(a+kh)\\right].$$"
   ]
  },
  {
   "cell_type": "markdown",
   "metadata": {
    "tags": []
   },
   "source": [
    "## Simpson's rule"
   ]
  },
  {
   "cell_type": "markdown",
   "metadata": {
    "cell_style": "split",
    "slideshow": {
     "slide_type": "subslide"
    },
    "tags": []
   },
   "source": [
    "* Break up interval into $N$ slices,\n",
    "* approximate function as a **quadratic** for every 2 slices\n",
    "* need 2 slices because you need 3 points to define a quadratic\n",
    "* more slices $\\Rightarrow$ better approximation to function\n",
    "* Number of slices need to be even! If uneven, either discard one, or use trapezoidal rule on one slice."
   ]
  },
  {
   "cell_type": "markdown",
   "metadata": {
    "cell_style": "split",
    "slideshow": {
     "slide_type": "subslide"
    }
   },
   "source": [
    "![From Newman: fig. 5.2](fig5-2.png)"
   ]
  },
  {
   "cell_type": "markdown",
   "metadata": {
    "cell_style": "center",
    "slideshow": {
     "slide_type": "subslide"
    }
   },
   "source": [
    "* Area of each 2-slice quadratic (see text for formula):\n",
    "$$A_k = \\frac{h}3\\left\\{f[a+(2k-2)h] + 4f[a+(2k-1)h] + f(a+2kh)\\right\\}.$$\n",
    "* Adding up the slices:\n",
    "$$\\boxed{I(a,b) \\approx \\frac{h}3\\left[f(a) + f(b) + 4\\sum_{\\substack{k\\ odd\\\\ 1\\dots{}N-1}}f(a+kh) + 2\\sum_{\\substack{k\\ even \\\\ 2\\dots{}N-2}}f(a+kh)\\right].}$$\n",
    "* In Python, you can easily sum over even and odd values:\n",
    "    `for k in range(1, N, 2)` for the odd terms, and\n",
    "    `for k in range(2, N, 2)` for the even terms."
   ]
  },
  {
   "cell_type": "markdown",
   "metadata": {
    "tags": []
   },
   "source": [
    "## Newton-Cotes formulas"
   ]
  },
  {
   "cell_type": "markdown",
   "metadata": {
    "slideshow": {
     "slide_type": "fragment"
    }
   },
   "source": [
    "Trapezoid and Simpson's Rules are part of a more general set of integration rules:\n",
    "* Break your interval into small **equal** sub-intervals,\n",
    "* approximate your function by a polynomial of some degree, e.g. \n",
    "    * 0 for Riemann Sum (mid-point rule, just summing all elements and multiplying by $h$)\n",
    "    * 1 for Trapezoidal\n",
    "    * 2 for Simpson\n",
    "    \n",
    "on that sub-interval.\n",
    "* this class of methods leads to Newton-Cotes (N-C) formulas."
   ]
  },
  {
   "cell_type": "markdown",
   "metadata": {
    "slideshow": {
     "slide_type": "subslide"
    }
   },
   "source": [
    "* All Newton-Cotes formulas can be written in the form:\n",
    "$$\\int_a^b f(x) dx \\approx \\sum_{k=1}^{N+1} w_k f(x_k).$$\n",
    "* $w_k$: \"weights\".\n",
    "* $x_k$: \"sample points\". Notice above we are using $N+1$ points ($N$ slices) to sample.\n",
    "* N-C formulas of degree $N$: exact for polynomials of degree $N$ (which require $N+1$ points to determine)\n",
    "* For N-C formulas, the sample points are **evenly spaced**."
   ]
  },
  {
   "cell_type": "markdown",
   "metadata": {
    "slideshow": {
     "slide_type": "subslide"
    }
   },
   "source": [
    "### Generalization\n",
    "\n",
    "Degree | Polynomial | Coefficients\n",
    "- | - | -\n",
    "1 (trapezoidal) | Straight line | $\\frac{1}{2}, 1, 1,\\dots, 1, \\frac{1}{2}$\n",
    "2 (Simpson) | Parabola | $\\frac13, \\frac43, \\frac23, \\frac43,\\dots, \\frac23, \\frac43, \\frac13$\n",
    "3 | Cubic | $\\frac38, \\frac98, \\frac98, \\frac34, \\frac98, \\frac98, \\frac34, \\dots, \\frac98, \\frac 38$\n",
    "4 | Quartic | $\\frac{14}{45}, \\frac{64}{45}, \\frac{8}{15}, \\frac{64}{45}, \\frac{28}{45}, \\frac{64}{45},\\dots, \\frac{64}{45}, \\frac{14}{45}$"
   ]
  },
  {
   "cell_type": "markdown",
   "metadata": {
    "tags": []
   },
   "source": [
    "## Error estimation"
   ]
  },
  {
   "cell_type": "markdown",
   "metadata": {
    "slideshow": {
     "slide_type": "subslide"
    },
    "tags": []
   },
   "source": [
    "* If you tried the trapezoidal integration routine, you noticed that the error (difference between true value of the integral and computed value) goes down as $N$ increases.\n",
    "* How fast?"
   ]
  },
  {
   "cell_type": "markdown",
   "metadata": {
    "slideshow": {
     "slide_type": "subslide"
    }
   },
   "source": [
    "### Euler-MacLaurin formulas for error\n",
    "\n",
    "Based on Taylor expansions.\n",
    "\n",
    "Example, for the trapezoidal rule:\n",
    "$$ I(a, b) = \\int_a^b f(x)dx \\underbrace{=}_{look!} \\underbrace{h\\left[\\frac12 f(a) + \\frac12f(b) + \\sum_{k=1}^{N-1} f(a+kh)\\right]}_{\\text{the method}} + \\underbrace{\\epsilon}_{\\text{the error}}$$"
   ]
  },
  {
   "cell_type": "markdown",
   "metadata": {
    "slideshow": {
     "slide_type": "subslide"
    }
   },
   "source": [
    "* Trapezoidal rule is a \"1$^{\\text{st}}$-order\" integration rule, i.e. accurate up to and including terms proportional to $h$. Leading order approximation error is of order $h^2$:\n",
    "$$\\boxed{\\epsilon = \\frac{h^2[f'(a) - f'(b)]}{12} + h.o.t.}$$\n",
    "\n",
    "* Simpson’s rule is a \"3$^{\\text{rd}}$-order\" integration rule, i.e., accurate up to and including terms proportional to $h^3$. Leading order approximation error is of order $h^4$ (even though we go from segments to quadratics!)\n",
    "$$\\boxed{\\epsilon = \\frac{h^4[f'''(a) - f'''(b)]}{180} + h.o.t.}$$\n",
    "(we won't worry about deriving these)"
   ]
  },
  {
   "cell_type": "markdown",
   "metadata": {
    "slideshow": {
     "slide_type": "subslide"
    }
   },
   "source": [
    "### Adaptive methods\n",
    "\n",
    "What if you don't know $f'$, $f'''$, etc.? If you know the order of the error, there is another way: compute the integral using $N$ intervals, then double $N$ and compute the integral again. Based on the order, a formula can be derived relating the error $\\epsilon$ on the latter result to the difference between the results.\n",
    "* e.g. for trapezoidal rule, we can (but won't) derive the following formula: $\\epsilon = (I_{2N} - I_N)/3$\n",
    "* for Simpson's, $\\epsilon = (I_{2N} - I_N)/15$\n",
    "* when you're re-computing the integral with $N$ doubled: re-use some of your results from the previous computation (since the sample points for the previous estimate are nested inside the points for the new estimate)\n",
    "* you can add $\\epsilon$ (as calculated above) to $I_{2N}$, to obtain a new estimate that is accurate to two more orders!"
   ]
  },
  {
   "cell_type": "markdown",
   "metadata": {},
   "source": [
    "Often we want to calculate the value of an integral to a given accuracy (e.g. 4 decimal places), and don't know beforehand what value of $N$ will be required to achieve this. We could just start with a really huge $N$, but this is computationally expensive. Instead use an adaptive method:\n",
    "1. Evaluate integral using a small $N$\n",
    "2. Double $N$, evaluate again, and calculate error using formula above\n",
    "3. If error doesn't satisfy our accuracy criterion, repeat step 2. Keep repeating until accuracy is achieved."
   ]
  }
 ],
 "metadata": {
  "celltoolbar": "Slideshow",
  "kernelspec": {
   "display_name": "Python 3 (ipykernel)",
   "language": "python",
   "name": "python3"
  },
  "language_info": {
   "codemirror_mode": {
    "name": "ipython",
    "version": 3
   },
   "file_extension": ".py",
   "mimetype": "text/x-python",
   "name": "python",
   "nbconvert_exporter": "python",
   "pygments_lexer": "ipython3",
   "version": "3.9.10"
  },
  "latex_metadata": {
   "affiliation": "PHY407, University of Toronto",
   "author": "Nico Grisouard",
   "title": "Lecture 1: python basics"
  }
 },
 "nbformat": 4,
 "nbformat_minor": 4
}
