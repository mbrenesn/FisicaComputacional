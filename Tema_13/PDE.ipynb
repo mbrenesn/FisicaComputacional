{
 "cells": [
  {
   "cell_type": "markdown",
   "metadata": {},
   "source": [
    "# Ecuaciones Diferenciales Parciales (PDEs)"
   ]
  },
  {
   "cell_type": "markdown",
   "metadata": {},
   "source": [
    "# Introducción\n",
    "\n",
    "Las ecuaciones diferenciales parciales describen los problemas más interesantes en las ciencias. Algunos problemas que involucran la solución de una ecuación diferencial parcial son las ecuaciones de onda, de difusión, de Laplace, de Maxwell, de Schrödinger; entre otras.\n",
    "\n",
    "Para evaluar las soluciones de las ecuaciones diferenciales parciales debemos aplicar muchas de las técnicas que hemos estudiado en este curso y existen diversas metodologías. Evaluar dichas soluciones involucra tomar decisiones de como discretizar el problema para implementar métodos numéricos estables.\n",
    "\n",
    "## Clasificación\n",
    "\n",
    "Las PDEs se clasifican de manera muy similar a como se clasifican las ecuaciones cónicas de la geometría. Considere la siguiente ecuación:\n",
    "$$\n",
    "\\alpha x^2 + \\beta xy + \\gamma y^2 + \\delta x + \\varepsilon y = f.\n",
    "$$\n",
    "Esta ecuación se categoriza de acuerdo al parámetro\n",
    "$$\n",
    "\\Delta = \\beta^2 - 4\\alpha\\gamma,\n",
    "$$\n",
    "de manera tal que tenemos:\n",
    "1. $\\Delta = 0$: la ecuación de una parábola,\n",
    "3. $\\Delta < 0$: la ecuación de una elipse,\n",
    "2. $\\Delta > 0$: la ecuación de una hipérbola.\n",
    "\n",
    "Para las PDEs, la clasificación se realiza de manera análoga para alguna función $\\phi = \\phi(x,y)$:\n",
    "$$\n",
    "\\alpha\\frac{\\partial^2 \\phi}{\\partial x^2} + \\beta\\frac{\\partial^2 \\phi}{\\partial x\\partial y} + \\gamma\\frac{\\partial^2 \\phi}{\\partial y^2} + \\delta \\frac{\\partial\\phi}{\\partial x} + \\varepsilon\\frac{\\partial\\phi}{\\partial y} = f,\n",
    "$$\n",
    "en la cual definimos $\\Delta$ está definido de la misma forma y realizamos la categorización:\n",
    "1. $\\Delta = 0$: PDE parabólica,\n",
    "3. $\\Delta < 0$: PDE elíptica,\n",
    "2. $\\Delta > 0$: PDE hiperbólica.\n",
    "\n",
    "Estas categorías se utilizan incluso cuando tenemos operadores espaciales, tal que las PDEs describen espacios 4-dimensionales, i.e., $\\nabla^2 = \\partial_x^2 + \\partial_y^2 + \\partial_z^2$.\n",
    "\n",
    "Estas categorías nos permiten aplicar **distintos métodos numéricos dependiendo de que tipo de problema estamos atacando**.\n",
    "\n",
    "## Algunos ejemplos en la Física\n",
    "### Ecuación parabólica\n",
    "\n",
    "La ecuación de difusión es una ecuación canónica en la Física\n",
    "$$\n",
    "\\kappa \\frac{\\partial ^2 T}{\\partial x^2}  - \\frac{\\partial T}{\\partial t} = 0,\n",
    "$$\n",
    "en la cual podemos reconocer los parámetros según nuestra clasificación anterior:\n",
    "$$\n",
    "x\\to x,\\quad y\\to t,\\quad \\alpha \\to \\kappa,\\quad \\varepsilon \\to - 1,\\quad \\beta, \\gamma, \\delta, f \\to 0 \\quad\\Rightarrow\\quad \\beta^2 - 4\\alpha\\gamma = 0.\n",
    "$$\n",
    "\n",
    "### Ecuación elíptica\n",
    "\n",
    "Otro ejemplo de la Física de una ecuación elíptic es la ecuación de Poisson, dada por:\n",
    "$$\n",
    "\\ \\nabla^2 \\phi = \\rho,\n",
    "$$\n",
    "en la cual tenemos\n",
    "$$\n",
    "x \\to x,\\quad y\\to y,\\quad\\alpha, \\gamma \\to 1, f \\to \\rho, \\beta, \\delta, \\varepsilon \\to 0 \\quad \\Rightarrow \\quad \\beta^2 - 4\\alpha\\gamma = -4<0.\n",
    "$$\n",
    "Por ejemplo, en electrostática de dos dimensiones con el potencial eléctrico $\\phi$, tal que $\\vec E = \\nabla \\phi$, en ausencia de cargas $(\\rho \\equiv 0)$; obtenemos la ley de Gauss\n",
    "$$\n",
    "\\frac{\\partial^2 \\phi}{\\partial x^2} + \\frac{\\partial^2 \\phi}{\\partial y^2} = 0.\n",
    "$$\n",
    "\n",
    "### Ecuación hiperbólica\n",
    "\n",
    "La ecuación de onda es una ecuación hiperbólica:\n",
    "$$\n",
    "\\ \\displaystyle c^2 \\frac{\\partial ^2 \\phi}{\\partial x^2}  - \\frac{\\partial^2 \\phi}{\\partial t^2} = 0.\n",
    "$$\n",
    "En este caso, tenemos\n",
    "$$\n",
    "x\\to x,\\quad y\\to t,\\quad \\alpha \\to c^2,\\quad \\gamma \\to - 1,\\quad \\beta, \\delta, \\varepsilon, f \\to 0 \\quad\\Rightarrow\\quad \\beta^2 - 4\\alpha\\gamma = 4c^2 >0.\n",
    "$$"
   ]
  },
  {
   "cell_type": "markdown",
   "metadata": {},
   "source": [
    "# Metodología\n",
    "\n",
    "La metodología general se base en discretizar el sistema espacial y temporalmente con base en algún método, e.g., \n",
    "* Diferencias finitas,\n",
    "* Coeficientes espectrales,\n",
    "* Transformadas de Fourier.\n",
    "\n",
    "El resultado es un **conjunto de ecuaciones diferenciales ordinarias ODEs acopladas que debemos resolver de alguna forma eficiente**.\n",
    "\n",
    "* Las derivadas espaciales **dan información acerca de los puntos vecinos (acoplamiento)**.\n",
    "* Los errores dependen en variables espaciales y temporales, no es poco común obtener comportamiento oscilatorio.\n",
    "\n",
    "Empecemos con el método de diferencias finitas.\n",
    "\n",
    "### Diferencias centrales para la segunda derivada\n",
    "\n",
    "En la clase de Diferencias Finitas; consideramos derivadas de primer orden, sus errores asociados y distintas metodologías. Podemos utilizar diferencias centrales para aproximar también segundas derivadas. El resultado se obtiene al considerar las diferencias centrales para la primera derivada en el punto $x+(h/2)$ y en el punto $x - (h/2)$:\n",
    "$$\n",
    "f'(x + h/2) \\approx \\frac{f(x + h) - f(x)}{h}, \\quad f'(x - h/2) \\approx \\frac{f(x) - f(x - h)}{h}.\n",
    "$$\n",
    "Podemos aplicar diferencias centrales una vez más en en la segunda derivada para obtener nuestra aproximación\n",
    "\\begin{align}\n",
    "f''(x) &\\approx \\frac{f'(x + h/2) - f'(h - h/2)}{h} \\\\\n",
    "&= \\frac{[f(x+h) - f(x)]/h - [f(x) - f(x - h)]/h}{h} \\\\\n",
    "&= \\frac{f(x + h) - 2f(x) + f(x - h)}{h^2}.\n",
    "\\end{align}"
   ]
  },
  {
   "cell_type": "markdown",
   "metadata": {},
   "source": [
    "## Ecuaciones diferenciales parciales elípticas\n",
    "\n",
    "Nuestro primer caso de estudio será sobre ecuaciones de clase elípticas donde tenemos alguna condición de frontera. Como ejemplo de estudio, consideremos la ley de Gauss en dos dimensiones\n",
    "$$\n",
    "0 = \\nabla^2 \\phi  = \\frac{\\partial^2 \\phi}{\\partial x^2} + \\frac{\\partial^2 \\phi}{\\partial y^2},\n",
    "$$\n",
    "en una grilla 2-dimensional cuadrada de lado $a$ con puntos discretos. Las diferencias finitas en este caso toman la forma\n",
    "\\begin{align}\n",
    "\\frac{\\partial^2 \\phi}{\\partial x^2} & \\approx \\frac{\\phi(x+a, y) - 2\\phi(x, y)+ \\phi(x-a, y)}{a^2},\\\\\n",
    "\\frac{\\partial^2 \\phi}{\\partial y^2} & \\approx \\frac{\\phi(x, y+a) - 2\\phi(x, y)+ \\phi(x, y-a)}{a^2}.\n",
    "\\end{align}\n",
    "Con esta discretización, la ley de Gauss toma una forma particular, dada por \n",
    "$$\n",
    "0 \\approx \\phi(x+a, y) + \\phi(x-a, y) + \\phi(x, y+a) + \\phi(x, y-a) - 4\\phi(x, y)\n",
    "$$\n",
    "en cada punto (x, y). La idea es que cada punto de la grilla satisfaga esta ecuación discreta sujeta a condiciones de frontera o a alguna otra condición de estado.\n",
    "\n",
    "Dicho esto, consideramos una serie de ecuaciones de la forma\n",
    "$$\n",
    "\\phi(x+a, y) + \\phi(x-a, y) + \\phi(x, y+a) + \\phi(x, y-a) - 4\\phi(x, y) = 0\n",
    "$$\n",
    "bajo alguna condición de frontera. \n",
    "\n",
    "* Las condiciones de frontera pueden involucrar a los puntos $x$ y $y$ o a sus derivadas $\\partial\\phi/\\partial \\xi$ ($\\xi = x,\\ y,$ o ambas). \n",
    "* No es poco común considerar restricción sobre las derivadas como condiciones de frontera\n",
    "* Si los valores de $\\phi$ son conocidos, utilizamos estos valores para la solución\n",
    "* Si conocemos los valores de frontera de $\\partial\\phi/\\partial \\xi$, debemos encontrar relaciones algebraicas entre los puntos cerca de la frontera utilizando diferencias finitas.\n",
    "\n",
    "Estas ecuaciones se pueden resolver utilizando métodos matriciales $\\mathbf L \\phi = \\mathbf R \\phi$ (el tema siguiente de este curso), sin embargo, existen métodos más sencillos. \n",
    "\n",
    "### Método de relajación de Jacobi\n",
    "\n",
    "El método de relajación de Jacobi es el método más sencillo que podemos aplicar para esta ecuación diferencial. \n",
    "\n",
    "Este método está basado en el método de relajación que estudiamos para encontrar las raíces de una ecuación no lineal. Basta con reacomodar la ecuación con la forma\n",
    "$$\n",
    "\\phi'(x, y) = \\frac{1}{4}\\left[\\phi(x+a, y) + \\phi(x-a, y) + \\phi(x, y+a) + \\phi(x, y-a)\\right],\n",
    "$$\n",
    "para poder aplicar el método de relajación. \n",
    "* Note que el problema tiene la misma forma que $x = f(x)$, con el cual se puede utilizar el método de relajación. \n",
    "* Básicamente, con esta metodología, obtenemos que el nuevo punto de la función en (x, y) es un promedio de la iteración anterior\n",
    "* Lo único que se debe hacer, es \n",
    "  - Fijar $\\phi(x, y)$ en los puntos de frontera\n",
    "  - Considerar valores iniciales: estos valores pueden ser cualquier valor inicial que queramos escoger\n",
    "  - Aplicar la ecuación anterior a **cada punto de la grilla**\n",
    "  - Una vez finalizado este procedimiento, los valores obtenidos se vuelven a escoger para la siguiente iteración\n",
    "  - Se termina cuando se alcanza la convergencia con cierta tolerancia deseada \n",
    "* A pesar de que el método de relajación no se puede utilizar para soluciones inestables, **se puede probar que el método de Jacobi siempre converge a una solución estable**\n",
    "  \n",
    "### Ejemplo\n",
    "\n",
    "<div>\n",
    "<img src=\"Fig4.png\" width=\"400\"/>\n",
    "</div>\n",
    "\n",
    "Vamos a resolver la ecuación de Gauss para el campo electrostático en una grilla 2-dimensional utilizando el metodo de relajación de Jacobi. La idea es considerar un problema de electrostática en una placa donde tenemos un potencial $V$ en la sección superior mientras que los otros tres lados están conectados a tierra.\n",
    "\n",
    "Este problema lo podemos resolver con el método de relajación de Jacobi.\n",
    "\n",
    "Complete la siguiente función:"
   ]
  },
  {
   "cell_type": "code",
   "execution_count": 1,
   "metadata": {},
   "outputs": [],
   "source": [
    "import numpy as np\n",
    "\n",
    "# Esta función toma como argumentos el tamaño lineal de la grilla cuadrada,\n",
    "# el valor del voltaje en la sección superior de la grilla y la tolerancia de convergencia \n",
    "def jacobi_relaxation(M, V, tolerance):\n",
    "    # Primero creamos los arreglos 2-dimensionales de la grilla\n",
    "    # Vamos a necesitar dos según la regla de Jacobi\n",
    "    # Note que usamos M+1, debido a que debemos contener la condición de frontera\n",
    "    # phi contiene inicialmente los valores iniciales. Vamos a utilizar ceros.\n",
    "    phi = np.zeros((M + 1, M + 1), dtype=float)\n",
    "    # Ahora tenemos que colocar la condición inicial.\n",
    "    # Recuerde accesos de listas en np.ndarray\n",
    "    phi[0, :] = V\n",
    "    # phiprime se necesita para la iteración\n",
    "    phiprime = np.zeros((M + 1, M + 1), dtype=float)\n",
    "    # Iteración de Jacobi\n",
    "    delta = 1.0\n",
    "    its = 0\n",
    "    while delta > tolerance:\n",
    "        # Calculamos la iteración\n",
    "        its += 1\n",
    "        for i in range(M + 1):\n",
    "            for j in range(M + 1):\n",
    "                # Condición de frontera\n",
    "                if i == 0 or i == M or j == 0 or j == M:\n",
    "                    phiprime[i, j] = phi[i, j]\n",
    "                # Iteración principal\n",
    "                else:\n",
    "                # COMPLETE AQUÍ\n",
    "        # Calculamos la diferencia máxima con respecto a los valores anteriores\n",
    "        delta = np.max(np.abs(phi - phiprime))\n",
    "        # Ahora intercambiamos los arreglos para la nueva iteración\n",
    "        # El nuevo phi es el phiprime\n",
    "        temp = phi\n",
    "        phi = phiprime\n",
    "        # El nuevo phiprime es el phi viejo\n",
    "        phiprime = temp\n",
    "        \n",
    "    return phi, its"
   ]
  },
  {
   "cell_type": "markdown",
   "metadata": {},
   "source": [
    "Realicemos el cálculo con un valor $V = 1$, $M = 100$ y toleracia de $10^{-5}$:"
   ]
  },
  {
   "cell_type": "code",
   "execution_count": 2,
   "metadata": {},
   "outputs": [
    {
     "name": "stdout",
     "output_type": "stream",
     "text": [
      "6073\n"
     ]
    }
   ],
   "source": [
    "jacobi_vals, iterations = jacobi_relaxation(100, 1.0, 1e-5)\n",
    "print(iterations)"
   ]
  },
  {
   "cell_type": "markdown",
   "metadata": {},
   "source": [
    "Y ahora grafiquemos nuestro resultado:"
   ]
  },
  {
   "cell_type": "code",
   "execution_count": 3,
   "metadata": {},
   "outputs": [
    {
     "data": {
      "image/png": "[encoded data removed]",
      "text/plain": [
       "<Figure size 640x480 with 1 Axes>"
      ]
     },
     "metadata": {},
     "output_type": "display_data"
    }
   ],
   "source": [
    "import matplotlib.pyplot as plt\n",
    "import matplotlib.cm as cm\n",
    "\n",
    "plt.imshow(jacobi_vals)\n",
    "plt.jet()\n",
    "plt.show()"
   ]
  },
  {
   "cell_type": "markdown",
   "metadata": {},
   "source": [
    "### Acerca de la aproximación\n",
    "\n",
    "* Dado que la discretización ocurre con diferencias finitas, el resultado es solamente una aproximación de la solución\n",
    "* Incluso si escogemos un valor de tolerancia muy pequeño, la solución contiene errores considerables dado que la aproximación de la segunda derivada utilizando diferencias centrales no es muy precisa\n",
    "* Se pueden utilizar aproximaciones a la derivada de mayor orden a mayor costo computacional\n",
    "* Otra forma de mejorar la aproximación es mediante el incremento de los puntos de la grilla, para aproximar de mejor manera el problema de la función continua\n",
    "* Debemos considerar que la aproximación solamente nos da la aproximación en los puntos de la grilla. Si necesitamos los valores en puntos intermedios de las celdas podemos **utilizar interpolación** o, en su defecto, incrementar el número de celdas a mayor costo computacional\n",
    "\n",
    "### Dificultades\n",
    "\n",
    "El método de relajación de Jacobi provee soluciones aproximadas de forma correcta, pero tiene un problema grave:\n",
    "* Es muy lento\n",
    "\n",
    "Incluso en una grilla de tamaño pequeño con un error relativamente alto, el método requiere muchas iteraciones para converger. "
   ]
  },
  {
   "cell_type": "markdown",
   "metadata": {},
   "source": [
    "### Método de relajación de Jacobi modificado (*over-relaxation*)\n",
    "\n",
    "Existe una forma de mejorar el método de Jacobi para converger con menos iteraciones. Este método es el método de Jacobi modificado, en el cual en lugar de tomar pasos pequeños entre cada iteración, incrementamos con un parámetro $\\omega$ el tamaño del incremento que realizamos. Con esta modificación, el método de Jacobi modificado toma la forma \n",
    "$$\n",
    "\\phi'(x, y) = (1+\\omega)\\left[\\frac{\\phi(x+a, y) + \\phi(x-a, y) + \\phi(x, y+a) + \\phi(x, y-a)}4\\right] - \\omega \\phi (x,y).\n",
    "$$\n",
    "* Cuando funciona, usualmente reduce el número de iteraciones necesarias para obtener la aproximación\n",
    "* **No siempre es estable**, depende de como se escoja el parámetro $\\omega$\n",
    "* En general, se debe considerar un parámetro $\\omega$ que depende del problema para acelerar el cálculo"
   ]
  },
  {
   "cell_type": "markdown",
   "metadata": {},
   "source": [
    "### Método de Gauss-Seidel\n",
    "\n",
    "Existe una optimización muy sencilla que se puede realizar al método de relajación de Jacobi.\n",
    "\n",
    "En el caso del método de Jacobi, utilizamos los valores antiguos para calcular los valores nuevos. Sin embargo, podemos ir actualizando los valores en los **mismos espacios de memoria para cada iteración**. Asumiendo que los valores nuevos están más cercanos a la solución, esto implica que el número de iteraciones para coverger va a ser menor.\n",
    "\n",
    "Basta con hacer una simple modificación al algoritmo:\n",
    "$$\n",
    "\\phi(x, y) \\leftarrow \\frac{\\phi(x+a, y) + \\phi(x-a, y) + \\phi(x, y+a) + \\phi(x, y-a)}{4}.\n",
    "$$\n",
    "De esta manera, en cada iteración para cada punto de la grilla, se reescriben los valores modificados en el mismo lugar. Se puede probar que esta modificación mejora el número de iteraciones para converger a la solución.\n",
    "\n",
    "* La diferencia crucial es que no utilizamos $\\phi'(x, y)$ en el lado izquierdo de la ecuación iterativa, si no el mismo $\\phi(x, y)$\n",
    "* De esta forma, actualizamos el valor viejo de inmediato, no al final de la iteración total de la grilla\n",
    "* El método puede ser combinado con el método modificado de Jacobi\n",
    "* En general, sin embargo, el método modificado de Jacobi puede ser inestable numéricamente, mientras que el de Gauss-Seidel **es siempre estable**. \n",
    "\n",
    "El método de Gauss-Seidel modificado se escribe de manera equivalente al de Jacobi\n",
    "$$\n",
    "\\phi(x, y) \\leftarrow (1+\\omega)\\left[\\frac{\\phi(x+a, y) + \\phi(x-a, y) + \\phi(x, y+a) + \\phi(x, y-a)}4\\right] - \\omega \\phi (x,y),\n",
    "$$\n",
    "con la única diferencia que sustituimos $\\phi(x, y)$, en lugar de asociarlo a $\\phi'(x, y)$"
   ]
  },
  {
   "cell_type": "markdown",
   "metadata": {},
   "source": [
    "## Laboratorio"
   ]
  },
  {
   "cell_type": "markdown",
   "metadata": {},
   "source": [
    "Vamos a poner el método de Gauss-Seidel modificado en prueba.\n",
    "\n",
    "Complete la siguiente función para incluir la modificación adecuada.\n",
    "\n",
    "Utilice los mismos parámetros que en el caso anterior y varíe el valor de $\\omega$ entre 0.1 y 0.9 para analizar sus resultados. Haga el gráfico del potencial electrostático."
   ]
  },
  {
   "cell_type": "code",
   "execution_count": null,
   "metadata": {},
   "outputs": [],
   "source": [
    "def gauss_seidel_modified(M, V, omega, tolerance):\n",
    "    # Primero creamos el arreglo 2-dimensionales de la grilla\n",
    "    # Note que usamos M+1, debido a que debemos contener la condición de frontera\n",
    "    # phi contiene inicialmente los valores iniciales. Vamos a utilizar ceros.\n",
    "    phi = np.zeros((M + 1, M + 1), dtype=float)\n",
    "    # Ahora tenemos que colocar la condición inicial.\n",
    "    # Recuerde accesos de listas en np.ndarray\n",
    "    phi[0, :] = V\n",
    "    # Vamos a guardar una copia para evaluar el error\n",
    "    phi_copy = phi.copy()\n",
    "    # Iteración de Gauss-Seidel\n",
    "    delta = 1.0\n",
    "    its = 0\n",
    "    while delta > tolerance:\n",
    "        # Calculamos la iteración\n",
    "        its += 1\n",
    "        for i in range(M + 1):\n",
    "            for j in range(M + 1):\n",
    "                # Condición de frontera\n",
    "                # En este caso, en la frontera los valores no se modifican\n",
    "                if i == 0 or i == M or j == 0 or j == M:\n",
    "                    continue\n",
    "                # Iteración principal\n",
    "                else:\n",
    "                    # COMPLETE AQUÍ\n",
    "        # Calculamos la diferencia máxima con respecto a los valores anteriores\n",
    "        delta = np.max(np.abs(phi - phi_copy))\n",
    "        # Copiamos los valores de la nueva iteración\n",
    "        phi_copy = phi.copy()\n",
    "        \n",
    "    return phi, its"
   ]
  }
 ],
 "metadata": {
  "anaconda-cloud": {},
  "kernelspec": {
   "display_name": "Python 3 (ipykernel)",
   "language": "python",
   "name": "python3"
  },
  "language_info": {
   "codemirror_mode": {
    "name": "ipython",
    "version": 3
   },
   "file_extension": ".py",
   "mimetype": "text/x-python",
   "name": "python",
   "nbconvert_exporter": "python",
   "pygments_lexer": "ipython3",
   "version": "3.9.19"
  }
 },
 "nbformat": 4,
 "nbformat_minor": 1
}
